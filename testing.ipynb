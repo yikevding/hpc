{
 "cells": [
  {
   "cell_type": "code",
   "execution_count": 17,
   "id": "583a625b-1746-46f5-8f96-b23d368cf697",
   "metadata": {},
   "outputs": [
    {
     "name": "stdout",
     "output_type": "stream",
     "text": [
      "0\n",
      "0.00018320216924910517\n",
      "1.0\n",
      "(0, 0, 0)\n"
     ]
    },
    {
     "ename": "ZeroDivisionError",
     "evalue": "float division by zero",
     "output_type": "error",
     "traceback": [
      "\u001b[1;31m---------------------------------------------------------------------------\u001b[0m",
      "\u001b[1;31mZeroDivisionError\u001b[0m                         Traceback (most recent call last)",
      "\u001b[1;32mc:\\Users\\pinkp\\GT\\HPC\\project\\Gaussium\\Untitled.ipynb Cell 1\u001b[0m line \u001b[0;36m1\n\u001b[0;32m     <a href='vscode-notebook-cell:/c%3A/Users/pinkp/GT/HPC/project/Gaussium/Untitled.ipynb#W0sZmlsZQ%3D%3D?line=9'>10</a>\u001b[0m basis_set \u001b[39m=\u001b[39m read_basis_set_file(thing, nuclei_list)\n\u001b[0;32m     <a href='vscode-notebook-cell:/c%3A/Users/pinkp/GT/HPC/project/Gaussium/Untitled.ipynb#W0sZmlsZQ%3D%3D?line=11'>12</a>\u001b[0m sym \u001b[39m=\u001b[39m Symmetry(Oh(), basis_set)\n\u001b[1;32m---> <a href='vscode-notebook-cell:/c%3A/Users/pinkp/GT/HPC/project/Gaussium/Untitled.ipynb#W0sZmlsZQ%3D%3D?line=12'>13</a>\u001b[0m sim \u001b[39m=\u001b[39m RestrictedHF(nuclei_list, basis_set, electrons, sym, os\u001b[39m.\u001b[39;49mcpu_count())\n",
      "File \u001b[1;32mc:\\Users\\pinkp\\GT\\HPC\\project\\Gaussium\\src\\gaussium\\hartreefock\\hartree_fock.py:79\u001b[0m, in \u001b[0;36mRestrictedHF.__init__\u001b[1;34m(self, nuclei_array, basis_set_array, electrons, symmetry, processes)\u001b[0m\n\u001b[0;32m     78\u001b[0m \u001b[39mdef\u001b[39;00m \u001b[39m__init__\u001b[39m(\u001b[39mself\u001b[39m, nuclei_array, basis_set_array, electrons, symmetry, processes):\n\u001b[1;32m---> 79\u001b[0m     \u001b[39msuper\u001b[39;49m()\u001b[39m.\u001b[39;49m\u001b[39m__init__\u001b[39;49m(nuclei_array, basis_set_array, electrons, symmetry, processes)\n\u001b[0;32m     80\u001b[0m     \u001b[39mself\u001b[39m\u001b[39m.\u001b[39mscf_method \u001b[39m=\u001b[39m RestrictedSCF(\n\u001b[0;32m     81\u001b[0m         \u001b[39mself\u001b[39m\u001b[39m.\u001b[39mlinear_algebra, \u001b[39mself\u001b[39m\u001b[39m.\u001b[39melectrons, \u001b[39mself\u001b[39m\u001b[39m.\u001b[39morbital_overlap,\n\u001b[0;32m     82\u001b[0m         FockMatrixRestricted(\u001b[39mself\u001b[39m\u001b[39m.\u001b[39mcore_hamiltonian, \u001b[39mself\u001b[39m\u001b[39m.\u001b[39mrepulsion)\n\u001b[0;32m     83\u001b[0m     )\n\u001b[0;32m     84\u001b[0m     \u001b[39mprint\u001b[39m(\u001b[39m'\u001b[39m\u001b[39m\\n\u001b[39;00m\u001b[39mBEGIN RESTRICTED HARTREE FOCK\u001b[39m\u001b[39m\\n\u001b[39;00m\u001b[39m'\u001b[39m)\n",
      "File \u001b[1;32mc:\\Users\\pinkp\\GT\\HPC\\project\\Gaussium\\src\\gaussium\\hartreefock\\hartree_fock.py:60\u001b[0m, in \u001b[0;36mRestricted.__init__\u001b[1;34m(self, nuclei_array, basis_set_array, electrons, symmetry, processes)\u001b[0m\n\u001b[0;32m     59\u001b[0m \u001b[39mdef\u001b[39;00m \u001b[39m__init__\u001b[39m(\u001b[39mself\u001b[39m, nuclei_array, basis_set_array, electrons, symmetry, processes):\n\u001b[1;32m---> 60\u001b[0m     \u001b[39msuper\u001b[39;49m()\u001b[39m.\u001b[39;49m\u001b[39m__init__\u001b[39;49m(nuclei_array, basis_set_array, electrons, symmetry, processes)\n",
      "File \u001b[1;32mc:\\Users\\pinkp\\GT\\HPC\\project\\Gaussium\\src\\gaussium\\hartreefock\\hartree_fock.py:26\u001b[0m, in \u001b[0;36mHartreeFock.__init__\u001b[1;34m(self, nuclei_array, basis_set_array, electrons, symmetry, processes)\u001b[0m\n\u001b[0;32m     24\u001b[0m \u001b[39mself\u001b[39m\u001b[39m.\u001b[39melectrons \u001b[39m=\u001b[39m electrons\n\u001b[0;32m     25\u001b[0m \u001b[39mself\u001b[39m\u001b[39m.\u001b[39msymmetry \u001b[39m=\u001b[39m symmetry\n\u001b[1;32m---> 26\u001b[0m \u001b[39mself\u001b[39m\u001b[39m.\u001b[39morbital_overlap \u001b[39m=\u001b[39m OrbitalOverlapMatrix(basis_set_array)\u001b[39m.\u001b[39;49mcreate()\n\u001b[0;32m     27\u001b[0m \u001b[39mself\u001b[39m\u001b[39m.\u001b[39mkinetic_energy \u001b[39m=\u001b[39m KineticEnergyMatrix(basis_set_array)\u001b[39m.\u001b[39mcreate()\n\u001b[0;32m     28\u001b[0m \u001b[39mself\u001b[39m\u001b[39m.\u001b[39mnuclear_attraction \u001b[39m=\u001b[39m NuclearAttractionMatrix(basis_set_array, nuclei_array)\u001b[39m.\u001b[39mcreate()\n",
      "File \u001b[1;32mc:\\Users\\pinkp\\GT\\HPC\\project\\Gaussium\\src\\gaussium\\matrixelements\\orbital_overlap_matrix.py:13\u001b[0m, in \u001b[0;36mOrbitalOverlapMatrix.create\u001b[1;34m(self)\u001b[0m\n\u001b[0;32m     12\u001b[0m \u001b[39mdef\u001b[39;00m \u001b[39mcreate\u001b[39m(\u001b[39mself\u001b[39m):\n\u001b[1;32m---> 13\u001b[0m     \u001b[39mreturn\u001b[39;00m \u001b[39mself\u001b[39;49m\u001b[39m.\u001b[39;49mcreate_matrix(\u001b[39mself\u001b[39;49m\u001b[39m.\u001b[39;49mcalculate)\n",
      "File \u001b[1;32mc:\\Users\\pinkp\\GT\\HPC\\project\\Gaussium\\src\\gaussium\\matrixelements\\create_matrix.py:34\u001b[0m, in \u001b[0;36mMatrix.create_matrix\u001b[1;34m(self, function)\u001b[0m\n\u001b[0;32m     32\u001b[0m \u001b[39mfor\u001b[39;00m i, j \u001b[39min\u001b[39;00m itertools\u001b[39m.\u001b[39mproduct(\u001b[39mrange\u001b[39m(\u001b[39mself\u001b[39m\u001b[39m.\u001b[39mmatrix_size), repeat\u001b[39m=\u001b[39m\u001b[39m2\u001b[39m):\n\u001b[0;32m     33\u001b[0m     \u001b[39mif\u001b[39;00m i \u001b[39m<\u001b[39m\u001b[39m=\u001b[39m j:\n\u001b[1;32m---> 34\u001b[0m         matrix\u001b[39m.\u001b[39mitemset((i, j), function(i, j))\n\u001b[0;32m     35\u001b[0m \u001b[39mreturn\u001b[39;00m matrix \u001b[39m+\u001b[39m matrix\u001b[39m.\u001b[39mT \u001b[39m-\u001b[39m np\u001b[39m.\u001b[39mdiag(np\u001b[39m.\u001b[39mdiag(matrix))\n",
      "File \u001b[1;32mc:\\Users\\pinkp\\GT\\HPC\\project\\Gaussium\\src\\gaussium\\matrixelements\\orbital_overlap_matrix.py:17\u001b[0m, in \u001b[0;36mOrbitalOverlapMatrix.calculate\u001b[1;34m(self, i, j)\u001b[0m\n\u001b[0;32m     15\u001b[0m \u001b[39mdef\u001b[39;00m \u001b[39mcalculate\u001b[39m(\u001b[39mself\u001b[39m, i, j):\n\u001b[0;32m     16\u001b[0m     s_ij \u001b[39m=\u001b[39m \u001b[39m0\u001b[39m\n\u001b[1;32m---> 17\u001b[0m     n_i \u001b[39m=\u001b[39m \u001b[39mself\u001b[39;49m\u001b[39m.\u001b[39;49mbasis_set_array[i]\u001b[39m.\u001b[39;49mnormalisation\n\u001b[0;32m     18\u001b[0m     n_j \u001b[39m=\u001b[39m \u001b[39mself\u001b[39m\u001b[39m.\u001b[39mbasis_set_array[j]\u001b[39m.\u001b[39mnormalisation\n\u001b[0;32m     19\u001b[0m     primitives_i \u001b[39m=\u001b[39m \u001b[39mself\u001b[39m\u001b[39m.\u001b[39mbasis_set_array[i]\u001b[39m.\u001b[39mprimitive_gaussian_array\n",
      "File \u001b[1;32mc:\\Users\\pinkp\\GT\\HPC\\project\\Gaussium\\src\\gaussium\\objects\\basis_function.py:44\u001b[0m, in \u001b[0;36mBasis.normalisation\u001b[1;34m(self)\u001b[0m\n\u001b[0;32m     42\u001b[0m c_1 \u001b[39m=\u001b[39m primitive_a\u001b[39m.\u001b[39mcontraction\n\u001b[0;32m     43\u001b[0m c_2 \u001b[39m=\u001b[39m primitive_b\u001b[39m.\u001b[39mcontraction\n\u001b[1;32m---> 44\u001b[0m n_1 \u001b[39m=\u001b[39m primitive_a\u001b[39m.\u001b[39;49mnormalisation\n\u001b[0;32m     45\u001b[0m n_2 \u001b[39m=\u001b[39m primitive_b\u001b[39m.\u001b[39mnormalisation\n\u001b[0;32m     47\u001b[0m out1 \u001b[39m=\u001b[39m factorial2(\u001b[39m2\u001b[39m \u001b[39m*\u001b[39m l \u001b[39m-\u001b[39m \u001b[39m1\u001b[39m) \u001b[39m*\u001b[39m factorial2(\u001b[39m2\u001b[39m \u001b[39m*\u001b[39m m \u001b[39m-\u001b[39m \u001b[39m1\u001b[39m) \u001b[39m*\u001b[39m factorial2(\u001b[39m2\u001b[39m \u001b[39m*\u001b[39m n \u001b[39m-\u001b[39m \u001b[39m1\u001b[39m)\n",
      "File \u001b[1;32mc:\\Users\\pinkp\\GT\\HPC\\project\\Gaussium\\src\\gaussium\\objects\\primitive_basis_function.py:45\u001b[0m, in \u001b[0;36mPrimitiveBasis.normalisation\u001b[1;34m(self)\u001b[0m\n\u001b[0;32m     43\u001b[0m     \u001b[39mprint\u001b[39m(out3)\n\u001b[0;32m     44\u001b[0m     \u001b[39mprint\u001b[39m(\u001b[39mself\u001b[39m\u001b[39m.\u001b[39mintegral_exponents)\n\u001b[1;32m---> 45\u001b[0m     \u001b[39mself\u001b[39m\u001b[39m.\u001b[39mnormalisation_memo \u001b[39m=\u001b[39m \u001b[39m1\u001b[39;49m \u001b[39m/\u001b[39;49m sqrt((out1 \u001b[39m*\u001b[39;49m out2) \u001b[39m/\u001b[39;49m out3)\n\u001b[0;32m     46\u001b[0m \u001b[39mreturn\u001b[39;00m \u001b[39mself\u001b[39m\u001b[39m.\u001b[39mnormalisation_memo\n",
      "\u001b[1;31mZeroDivisionError\u001b[0m: float division by zero"
     ]
    }
   ],
   "source": [
    "from src.gaussium.hartreefock import RestrictedHF\n",
    "from src.gaussium.common import read_mol_file, read_basis_set_file\n",
    "from src.gaussium.common.symmetry import Symmetry\n",
    "from src.gaussium.objects.point_group import Oh\n",
    "import os \n",
    "\n",
    "atom = 'examples/molfiles/C8H8.mol'\n",
    "thing = 'examples/basissets/4-31G.gbs'\n",
    "nuclei_list, electrons, multiplicity = read_mol_file(atom)\n",
    "basis_set = read_basis_set_file(thing, nuclei_list)\n",
    "\n",
    "sym = Symmetry(Oh(), basis_set)\n",
    "sim = RestrictedHF(nuclei_list, basis_set, electrons, sym, os.cpu_count())"
   ]
  },
  {
   "cell_type": "code",
   "execution_count": 10,
   "id": "f8c4e461-de88-4eb5-9589-01c8fe0fc67e",
   "metadata": {},
   "outputs": [
    {
     "name": "stdout",
     "output_type": "stream",
     "text": [
      " Volume in drive C is Windows\n",
      " Volume Serial Number is DCB2-D96B\n",
      "\n",
      " Directory of c:\\Users\\pinkp\\GT\\HPC\\project\\Gaussium\n",
      "\n",
      "04/12/2024  04:05 PM    <DIR>          .\n",
      "04/12/2024  03:56 PM    <DIR>          ..\n",
      "04/12/2024  03:56 PM               859 .gitignore\n",
      "04/12/2024  04:02 PM    <DIR>          .ipynb_checkpoints\n",
      "04/12/2024  03:57 PM    <DIR>          build\n",
      "04/14/2024  02:38 PM    <DIR>          dist\n",
      "04/12/2024  03:56 PM    <DIR>          examples\n",
      "04/12/2024  03:56 PM             1,870 README.md\n",
      "04/12/2024  03:56 PM               238 setup.py\n",
      "04/12/2024  03:57 PM    <DIR>          src\n",
      "04/12/2024  03:56 PM    <DIR>          tests\n",
      "04/12/2024  04:05 PM            23,454 Untitled.ipynb\n",
      "               4 File(s)         26,421 bytes\n",
      "               8 Dir(s)  21,293,686,784 bytes free\n"
     ]
    }
   ],
   "source": []
  },
  {
   "cell_type": "code",
   "execution_count": null,
   "metadata": {},
   "outputs": [],
   "source": []
  }
 ],
 "metadata": {
  "kernelspec": {
   "display_name": "Python 3 (ipykernel)",
   "language": "python",
   "name": "python3"
  },
  "language_info": {
   "codemirror_mode": {
    "name": "ipython",
    "version": 3
   },
   "file_extension": ".py",
   "mimetype": "text/x-python",
   "name": "python",
   "nbconvert_exporter": "python",
   "pygments_lexer": "ipython3",
   "version": "3.9.19"
  }
 },
 "nbformat": 4,
 "nbformat_minor": 5
}
